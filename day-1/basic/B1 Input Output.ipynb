{
 "cells": [
  {
   "cell_type": "markdown",
   "metadata": {
    "colab_type": "text",
    "id": "PerprACP9psC"
   },
   "source": [
    "# Your First Program\n",
    "\n",
    "Traditionally the first program you write in any programming language is \"Hello World!\". \n",
    "\n",
    "Introduce yourself to the World. \n",
    "\n",
    "\n",
    "Replace **momoland** with **your name**"
   ]
  },
  {
   "cell_type": "code",
   "execution_count": 1,
   "metadata": {
    "colab": {
     "autoexec": {
      "startup": false,
      "wait_interval": 0
     },
     "base_uri": "https://localhost:8080/",
     "height": 34
    },
    "colab_type": "code",
    "executionInfo": {
     "elapsed": 930,
     "status": "ok",
     "timestamp": 1529451801753,
     "user": {
      "displayName": "John Anthony Jose",
      "photoUrl": "//lh5.googleusercontent.com/-NLtsURc15Fg/AAAAAAAAAAI/AAAAAAAAAT4/2CdlLebB_Jo/s50-c-k-no/photo.jpg",
      "userId": "106419934937111039828"
     },
     "user_tz": -480
    },
    "id": "6bBs3H59yLqV",
    "outputId": "4de5d7ff-23c8-4092-d60b-a2311a976286"
   },
   "outputs": [
    {
     "name": "stdout",
     "output_type": "stream",
     "text": [
      "Hello, world! My name is momoland\n"
     ]
    }
   ],
   "source": [
    "print(\"Hello, world! My name is momoland\")"
   ]
  },
  {
   "cell_type": "markdown",
   "metadata": {
    "colab_type": "text",
    "id": "s25AP3Gl-RfB"
   },
   "source": [
    "Comments in Python start with the hash character ( #) and include the whole line."
   ]
  },
  {
   "cell_type": "code",
   "execution_count": 4,
   "metadata": {
    "colab": {
     "autoexec": {
      "startup": false,
      "wait_interval": 0
     },
     "base_uri": "https://localhost:8080/",
     "height": 51
    },
    "colab_type": "code",
    "executionInfo": {
     "elapsed": 770,
     "status": "ok",
     "timestamp": 1529451824415,
     "user": {
      "displayName": "John Anthony Jose",
      "photoUrl": "//lh5.googleusercontent.com/-NLtsURc15Fg/AAAAAAAAAAI/AAAAAAAAAT4/2CdlLebB_Jo/s50-c-k-no/photo.jpg",
      "userId": "106419934937111039828"
     },
     "user_tz": -480
    },
    "id": "swsezJBR-YdB",
    "outputId": "484714db-def4-47ff-93dc-73b56337de43"
   },
   "outputs": [
    {
     "name": "stdout",
     "output_type": "stream",
     "text": [
      "Hello!\n",
      "# this is not a comment\n"
     ]
    }
   ],
   "source": [
    "# This is the comment for the first line\n",
    "print(\"Hello!\")  # this comment is for the second line\n",
    "\n",
    "print(\"# this is not a comment\")\n",
    "# add new comment here"
   ]
  },
  {
   "cell_type": "markdown",
   "metadata": {
    "colab_type": "text",
    "id": "-8q9Rvbt-yJh"
   },
   "source": [
    "## Variables\n",
    "\n",
    "Variables are used to store values so we can refer to them later. A variable is like a label, and you use the ' =' symbol, known as the assignment operator, to assign a value to a variable."
   ]
  },
  {
   "cell_type": "code",
   "execution_count": 7,
   "metadata": {
    "colab": {
     "autoexec": {
      "startup": false,
      "wait_interval": 0
     },
     "base_uri": "https://localhost:8080/",
     "height": 34
    },
    "colab_type": "code",
    "executionInfo": {
     "elapsed": 746,
     "status": "ok",
     "timestamp": 1529451930159,
     "user": {
      "displayName": "John Anthony Jose",
      "photoUrl": "//lh5.googleusercontent.com/-NLtsURc15Fg/AAAAAAAAAAI/AAAAAAAAAT4/2CdlLebB_Jo/s50-c-k-no/photo.jpg",
      "userId": "106419934937111039828"
     },
     "user_tz": -480
    },
    "id": "xjorxpsu-xT3",
    "outputId": "035c7bb2-9492-419d-d017-06d9474af5be"
   },
   "outputs": [
    {
     "name": "stdout",
     "output_type": "stream",
     "text": [
      "a = 2\n"
     ]
    }
   ],
   "source": [
    "a = 2  # It assigns the value 2 to variables \"a\"\n",
    "print(\"a = \" + str(a))   # We'll explain the expression str(a) later in the course. For now it is used to convert the  variable \"a\" to a string.\n"
   ]
  },
  {
   "cell_type": "markdown",
   "metadata": {
    "colab_type": "text",
    "id": "g9oDUFFNSG72"
   },
   "source": [
    "Change the value stored in the variable greetings. "
   ]
  },
  {
   "cell_type": "code",
   "execution_count": 11,
   "metadata": {
    "colab": {
     "autoexec": {
      "startup": false,
      "wait_interval": 0
     },
     "base_uri": "https://localhost:8080/",
     "height": 34
    },
    "colab_type": "code",
    "executionInfo": {
     "elapsed": 1005,
     "status": "ok",
     "timestamp": 1529452036643,
     "user": {
      "displayName": "John Anthony Jose",
      "photoUrl": "//lh5.googleusercontent.com/-NLtsURc15Fg/AAAAAAAAAAI/AAAAAAAAAT4/2CdlLebB_Jo/s50-c-k-no/photo.jpg",
      "userId": "106419934937111039828"
     },
     "user_tz": -480
    },
    "id": "3I8qBCfGAtMt",
    "outputId": "7a1ef913-039e-4608-8c99-1f546987d659"
   },
   "outputs": [
    {
     "name": "stdout",
     "output_type": "stream",
     "text": [
      "greetings = blluee\n"
     ]
    }
   ],
   "source": [
    "greetings = \"blluee\" # Change this one\n",
    "print(\"greetings = \" + str(greetings))"
   ]
  },
  {
   "cell_type": "markdown",
   "metadata": {
    "colab_type": "text",
    "id": "aCH3n0wE_EJd"
   },
   "source": [
    "Variable names may only contain letters, digits, and/or the underscore character, and cannot start with a digit. \n",
    "\n",
    "Check what happens if you use a variable which is not defined yet. Try to print out an undefined name. "
   ]
  },
  {
   "cell_type": "code",
   "execution_count": 14,
   "metadata": {
    "colab": {
     "autoexec": {
      "startup": false,
      "wait_interval": 0
     },
     "base_uri": "https://localhost:8080/",
     "height": 180
    },
    "colab_type": "code",
    "executionInfo": {
     "elapsed": 723,
     "status": "error",
     "timestamp": 1529452083041,
     "user": {
      "displayName": "John Anthony Jose",
      "photoUrl": "//lh5.googleusercontent.com/-NLtsURc15Fg/AAAAAAAAAAI/AAAAAAAAAT4/2CdlLebB_Jo/s50-c-k-no/photo.jpg",
      "userId": "106419934937111039828"
     },
     "user_tz": -480
    },
    "id": "G7Ur7-Hc_GKn",
    "outputId": "c3341590-6017-42ea-bc69-d7e4aa9a727a"
   },
   "outputs": [
    {
     "ename": "NameError",
     "evalue": "ignored",
     "output_type": "error",
     "traceback": [
      "\u001b[0;31m\u001b[0m",
      "\u001b[0;31mNameError\u001b[0mTraceback (most recent call last)",
      "\u001b[0;32m<ipython-input-14-c1a15e83013c>\u001b[0m in \u001b[0;36m<module>\u001b[0;34m()\u001b[0m\n\u001b[1;32m      1\u001b[0m \u001b[0mvariable\u001b[0m \u001b[0;34m=\u001b[0m \u001b[0;36m1\u001b[0m\u001b[0;34m\u001b[0m\u001b[0m\n\u001b[0;32m----> 2\u001b[0;31m \u001b[0;32mprint\u001b[0m\u001b[0;34m(\u001b[0m\u001b[0mother_variable\u001b[0m\u001b[0;34m)\u001b[0m\u001b[0;34m\u001b[0m\u001b[0m\n\u001b[0m",
      "\u001b[0;31mNameError\u001b[0m: name 'other_variable' is not defined"
     ]
    }
   ],
   "source": [
    "variable = 1\n",
    "print(other_variable)"
   ]
  },
  {
   "cell_type": "markdown",
   "metadata": {
    "colab_type": "text",
    "id": "1SpnjXQH_LEP"
   },
   "source": [
    "### Variable Types\n",
    "\n",
    "In Python, there are two main types of numbers: integers and floats. The most important difference between them is that a float is a number that has a decimal point, and an int is a number without a decimal point. \n",
    "\n",
    "Determine the type of the variable float_number. "
   ]
  },
  {
   "cell_type": "code",
   "execution_count": 17,
   "metadata": {
    "colab": {
     "autoexec": {
      "startup": false,
      "wait_interval": 0
     },
     "base_uri": "https://localhost:8080/",
     "height": 51
    },
    "colab_type": "code",
    "executionInfo": {
     "elapsed": 1170,
     "status": "ok",
     "timestamp": 1529452161196,
     "user": {
      "displayName": "John Anthony Jose",
      "photoUrl": "//lh5.googleusercontent.com/-NLtsURc15Fg/AAAAAAAAAAI/AAAAAAAAAT4/2CdlLebB_Jo/s50-c-k-no/photo.jpg",
      "userId": "106419934937111039828"
     },
     "user_tz": -480
    },
    "id": "8LDvcLPZ_KkC",
    "outputId": "fc8e4e0a-063e-472f-9605-d2e0d181bd11"
   },
   "outputs": [
    {
     "name": "stdout",
     "output_type": "stream",
     "text": [
      "<type 'int'>\n",
      "<type 'float'>\n"
     ]
    }
   ],
   "source": [
    "number = 9\n",
    "print(type(number))   # print type of variable \"number\"\n",
    "\n",
    "float_number = 9.0\n",
    "print(type(float_number)) #Change this line into the proper way\n"
   ]
  },
  {
   "cell_type": "markdown",
   "metadata": {
    "colab_type": "text",
    "id": "wf90SaXe_Z96"
   },
   "source": [
    "### Type Conversion\n",
    "\n",
    "There are several built-in functions that let you convert one data type to another. These functions return a new object representing the converted value. \n",
    "\n",
    "int(x) converts x to an integer. \n",
    "\n",
    "float(x) converts x to a floating-point number. \n",
    "\n",
    "str(x) converts object x to a string representation. \n",
    "\n",
    "Convert float_number to integer."
   ]
  },
  {
   "cell_type": "code",
   "execution_count": 21,
   "metadata": {
    "colab": {
     "autoexec": {
      "startup": false,
      "wait_interval": 0
     },
     "base_uri": "https://localhost:8080/",
     "height": 68
    },
    "colab_type": "code",
    "executionInfo": {
     "elapsed": 1016,
     "status": "ok",
     "timestamp": 1529452264313,
     "user": {
      "displayName": "John Anthony Jose",
      "photoUrl": "//lh5.googleusercontent.com/-NLtsURc15Fg/AAAAAAAAAAI/AAAAAAAAAT4/2CdlLebB_Jo/s50-c-k-no/photo.jpg",
      "userId": "106419934937111039828"
     },
     "user_tz": -480
    },
    "id": "RdNFejBz_X4m",
    "outputId": "54b1f10c-a9f3-4b26-b48f-121d08cf8afb"
   },
   "outputs": [
    {
     "name": "stdout",
     "output_type": "stream",
     "text": [
      "<type 'int'>\n",
      "<type 'float'>\n",
      "9\n"
     ]
    }
   ],
   "source": [
    "number = 9\n",
    "print(type(number))   # print type of variable \"number\"\n",
    "\n",
    "float_number = 9.0\n",
    "print(type(float_number))\n",
    "print(int(float_number)) #Change this one\n"
   ]
  },
  {
   "cell_type": "markdown",
   "metadata": {
    "colab_type": "text",
    "id": "cW69mRaH_kS-"
   },
   "source": [
    "### Arithmetic Operators\n",
    "\n",
    "Just as with any other programming language, \n",
    "1. the addition ( +), \n",
    "2. subtraction ( -), \n",
    "3. multiplication ( *), \n",
    "4. division ( /) \n",
    "5. the power ( **) and \n",
    "6. modulo ( %) operators. \n",
    "\n",
    "Divide the value stored in the variable number by 2, and then calculate the remainder. "
   ]
  },
  {
   "cell_type": "code",
   "execution_count": 29,
   "metadata": {
    "colab": {
     "autoexec": {
      "startup": false,
      "wait_interval": 0
     },
     "base_uri": "https://localhost:8080/",
     "height": 34
    },
    "colab_type": "code",
    "executionInfo": {
     "elapsed": 983,
     "status": "ok",
     "timestamp": 1529452444136,
     "user": {
      "displayName": "John Anthony Jose",
      "photoUrl": "//lh5.googleusercontent.com/-NLtsURc15Fg/AAAAAAAAAAI/AAAAAAAAAT4/2CdlLebB_Jo/s50-c-k-no/photo.jpg",
      "userId": "106419934937111039828"
     },
     "user_tz": -480
    },
    "id": "EZ2mz-X9_oo9",
    "outputId": "bc230a21-0333-4197-d426-68e065df461b"
   },
   "outputs": [
    {
     "name": "stdout",
     "output_type": "stream",
     "text": [
      "result = 1.0\n"
     ]
    }
   ],
   "source": [
    "number = 9.0        # float number\n",
    "\n",
    "result = divide 'number' by two #change this\n",
    "\n",
    "remainder = calculate the remainder #Change this\n",
    "\n",
    "print(\"remainder = \" + str(remainder))"
   ]
  },
  {
   "cell_type": "markdown",
   "metadata": {
    "colab_type": "text",
    "id": "aInJyupa_q4h"
   },
   "source": [
    "### Assignments\n",
    "\n",
    "Augmented assignment is a single statement combining a binary operation and an assignment statement such as +=, -=, etc. \n",
    "\n",
    "Use an augmented assignment to add 5 to number and update the variable."
   ]
  },
  {
   "cell_type": "code",
   "execution_count": 31,
   "metadata": {
    "colab": {
     "autoexec": {
      "startup": false,
      "wait_interval": 0
     },
     "base_uri": "https://localhost:8080/",
     "height": 51
    },
    "colab_type": "code",
    "executionInfo": {
     "elapsed": 944,
     "status": "ok",
     "timestamp": 1529452491192,
     "user": {
      "displayName": "John Anthony Jose",
      "photoUrl": "//lh5.googleusercontent.com/-NLtsURc15Fg/AAAAAAAAAAI/AAAAAAAAAT4/2CdlLebB_Jo/s50-c-k-no/photo.jpg",
      "userId": "106419934937111039828"
     },
     "user_tz": -480
    },
    "id": "Ry5BZJ3t_yYZ",
    "outputId": "2e8b417f-3819-4d1b-8e6a-83645005d0bb"
   },
   "outputs": [
    {
     "name": "stdout",
     "output_type": "stream",
     "text": [
      "number = 9.0\n",
      "number = 7.0\n"
     ]
    }
   ],
   "source": [
    "number = 9.0\n",
    "print(\"number = \" + str(number))\n",
    "\n",
    "number = number - 2\n",
    "print(\"number = \" + str(number))\n",
    "\n",
    "number operator 5 #Change operator into the proper assignment operators\n",
    "\n",
    "print(\"number = \" + str(number))"
   ]
  },
  {
   "cell_type": "markdown",
   "metadata": {
    "colab_type": "text",
    "id": "3IHalV-d_2sY"
   },
   "source": [
    "### Boolean Operators\n",
    "\n",
    "Boolean is a type of value that can only be True or False. The == (equality) operator checks whether the two variables being compared are equal. \n",
    "\n",
    "Check whether the variable two is equal to three. "
   ]
  },
  {
   "cell_type": "code",
   "execution_count": 35,
   "metadata": {
    "colab": {
     "autoexec": {
      "startup": false,
      "wait_interval": 0
     },
     "base_uri": "https://localhost:8080/",
     "height": 34
    },
    "colab_type": "code",
    "executionInfo": {
     "elapsed": 727,
     "status": "ok",
     "timestamp": 1529452560322,
     "user": {
      "displayName": "John Anthony Jose",
      "photoUrl": "//lh5.googleusercontent.com/-NLtsURc15Fg/AAAAAAAAAAI/AAAAAAAAAT4/2CdlLebB_Jo/s50-c-k-no/photo.jpg",
      "userId": "106419934937111039828"
     },
     "user_tz": -480
    },
    "id": "-l3AgKZ0_5h3",
    "outputId": "b57f8459-dfd8-463f-a2e5-1be7a6b36df5"
   },
   "outputs": [
    {
     "name": "stdout",
     "output_type": "stream",
     "text": [
      "False\n"
     ]
    }
   ],
   "source": [
    "varA = 2\n",
    "varB = 3\n",
    "\n",
    "is_equal = varA >= varB #Change operator into the proper boolean opereator\n",
    "\n",
    "print(is_equal)"
   ]
  },
  {
   "cell_type": "markdown",
   "metadata": {
    "colab_type": "text",
    "id": "e9cC3EaS__1M"
   },
   "source": [
    "### Comparison Operators\n",
    "\n",
    "Python has many types of comparison operators including >=, <=, >, <, etc. All comparison operations in Python have the same priority. Comparisons yield boolean values: either True or False. Comparisons can be chained arbitrarily. \n",
    "\n",
    "Check whether the value of the variable three is strictly greater than the value of the variable two. "
   ]
  },
  {
   "cell_type": "code",
   "execution_count": null,
   "metadata": {
    "colab": {
     "autoexec": {
      "startup": false,
      "wait_interval": 0
     }
    },
    "colab_type": "code",
    "id": "rwDUgL8ZACZf"
   },
   "outputs": [],
   "source": [
    "one = 1\n",
    "two = 2\n",
    "three = 3\n",
    "\n",
    "print(one < two < three)  # This chained comparison means that the (one < two) and (two < three) comparisons are performed at the same time.\n",
    "\n",
    "is_greater = three operator two #Change operator into the proper comparison operator\n",
    "print(is_greater)\n"
   ]
  }
 ],
 "metadata": {
  "colab": {
   "default_view": {},
   "name": "Laboratory Activity 4 - Hello World",
   "provenance": [],
   "version": "0.3.2",
   "views": {}
  },
  "kernelspec": {
   "display_name": "Python 3",
   "language": "python",
   "name": "python3"
  },
  "language_info": {
   "codemirror_mode": {
    "name": "ipython",
    "version": 3
   },
   "file_extension": ".py",
   "mimetype": "text/x-python",
   "name": "python",
   "nbconvert_exporter": "python",
   "pygments_lexer": "ipython3",
   "version": "3.6.8"
  }
 },
 "nbformat": 4,
 "nbformat_minor": 2
}
