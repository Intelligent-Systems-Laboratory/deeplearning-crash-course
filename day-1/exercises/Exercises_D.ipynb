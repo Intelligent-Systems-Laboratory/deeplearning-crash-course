{
 "cells": [
  {
   "cell_type": "markdown",
   "metadata": {},
   "source": [
    "# Exercise D"
   ]
  },
  {
   "cell_type": "markdown",
   "metadata": {
    "deletable": false,
    "editable": false,
    "nbgrader": {
     "checksum": "75c425aff1f0a436daf36404c8ba2ab1",
     "grade": false,
     "grade_id": "cell-ea6c1e4c217d0584",
     "locked": true,
     "schema_version": 1,
     "solution": false
    }
   },
   "source": [
    "Import the NumPy and Matplotlib modules:"
   ]
  },
  {
   "cell_type": "code",
   "execution_count": null,
   "metadata": {
    "deletable": false,
    "editable": false,
    "nbgrader": {
     "checksum": "59eda70eb0da3f712de94d757423e124",
     "grade": false,
     "grade_id": "cell-851f16f7d1f512b6",
     "locked": true,
     "schema_version": 1,
     "solution": false
    }
   },
   "outputs": [],
   "source": [
    "%matplotlib inline\n",
    "import numpy as np\n",
    "import matplotlib.pyplot as plt"
   ]
  },
  {
   "cell_type": "markdown",
   "metadata": {},
   "source": [
    "## Exercise D.1 (function plotting)\n",
    "\n",
    "Consider the function \n",
    "$$\n",
    "f(x) = e^{x/10} \\sin(\\omega_{1}x)\\cos(\\omega_{0}x)\n",
    "$$\n",
    "from $x = -4\\pi$ to $x = 4\\pi$."
   ]
  },
  {
   "cell_type": "markdown",
   "metadata": {
    "deletable": false,
    "editable": false,
    "nbgrader": {
     "checksum": "829dcc103249f5c46c67dd8738848e0e",
     "grade": false,
     "grade_id": "cell-7bbadc15f57cb62e",
     "locked": true,
     "schema_version": 1,
     "solution": false
    }
   },
   "source": [
    "(1) Plot the function when $\\omega_{0} = \\omega_{1} = 1$. Label the axes."
   ]
  },
  {
   "cell_type": "code",
   "execution_count": null,
   "metadata": {
    "deletable": false,
    "nbgrader": {
     "checksum": "dda339af9d9ff1200c6e690cc736346e",
     "grade": false,
     "grade_id": "cell-c220b6560241ee82",
     "locked": false,
     "schema_version": 1,
     "solution": true
    }
   },
   "outputs": [],
   "source": [
    "num_points = 100\n",
    "x = np.linspace(-4*np.pi, 4*np.pi, num=num_points)\n",
    "\n",
    "f = np.exp(x/10)*np.sin(x)*np.cos(x)\n",
    "# YOUR CODE HERE\n",
    "raise NotImplementedError()"
   ]
  },
  {
   "cell_type": "markdown",
   "metadata": {
    "deletable": false,
    "editable": false,
    "nbgrader": {
     "checksum": "9d299345f06033e8be689ce7feebea37",
     "grade": false,
     "grade_id": "cell-e4170686d6779807",
     "locked": true,
     "schema_version": 1,
     "solution": false
    }
   },
   "source": [
    "(2) Create an interactive plot with sliders for $\\omega_{0}$ and $\\omega_{1}$, varying from 0 to 2."
   ]
  },
  {
   "cell_type": "code",
   "execution_count": null,
   "metadata": {
    "deletable": false,
    "nbgrader": {
     "checksum": "88d66aece0257fe1f0965921fcfc3580",
     "grade": false,
     "grade_id": "cell-e6df2ed12d41ffa1",
     "locked": false,
     "schema_version": 1,
     "solution": true
    }
   },
   "outputs": [],
   "source": [
    "from ipywidgets import *\n",
    "\n",
    "# YOUR CODE HERE\n",
    "raise NotImplementedError()"
   ]
  },
  {
   "cell_type": "markdown",
   "metadata": {},
   "source": [
    "## Exercise D.2 (demographics and interactive plotting)\n",
    "\n",
    "A county planning body has requested an interactive tool to visualise the population distribution in Cambridgeshire (by district) from 2011 to 2021 for different population growth rate scenarios in each district. It can be assumed that:\n",
    "\n",
    "- the growth rates are constant in each district;\n",
    "- the growth rate will not be negative in any district; and \n",
    "- the annual growth rate in any one district will not exceed 10%.\n",
    "\n",
    "Building on the pie chart example with population data in the Activity notebook, create an interactive plot with:\n",
    "\n",
    "1. A slider for the year (from 2011 to 2021); and\n",
    "2. Sliders for the annual population growth for each district (in percentage), with an \n",
    "   initial value of zero for each district."
   ]
  },
  {
   "cell_type": "markdown",
   "metadata": {},
   "source": [
    "### Solution\n",
    "\n",
    "There are number of ways this exercise could be done, from very simple but not very robust with respect to changes in the order of the input data, to quite techical but robust with repsect to the order in which data is entered."
   ]
  },
  {
   "cell_type": "code",
   "execution_count": null,
   "metadata": {
    "deletable": false,
    "nbgrader": {
     "checksum": "c900ac52bff18cf62b81b3ff3522789e",
     "grade": false,
     "grade_id": "cell-0ddfc4c579d42ad3",
     "locked": false,
     "schema_version": 1,
     "solution": true
    }
   },
   "outputs": [],
   "source": [
    "# List of (district, population) data (in 2011)\n",
    "population_data = (('Cambridge City', 123900), \n",
    "                   ('East Cambridgeshire', 83800), \n",
    "                   ('Fenland', 95300), \n",
    "                   ('Huntingdonshire', 169500), \n",
    "                   ('South Cambridgeshire', 148800))\n",
    "\n",
    "# YOUR CODE HERE\n",
    "raise NotImplementedError()"
   ]
  },
  {
   "cell_type": "markdown",
   "metadata": {},
   "source": [
    "## Exercise D.4 (crime reports by location)\n",
    "\n",
    "### Background\n",
    "\n",
    "Your task is to produce a crime report data plot in the neighborhood of your college, by reported crime\n",
    "category.\n",
    "\n",
    "We can get crime data in the UK from the police data systems using what is known as a *REST API*,\n",
    "and turn the data into a list of Python dictionaries. Each entry in the list is a police report \n",
    "(an entry is a Python dictionary detailing the report).\n",
    "\n",
    "The first step is to import the modules we will be using:"
   ]
  },
  {
   "cell_type": "code",
   "execution_count": null,
   "metadata": {
    "deletable": false,
    "editable": false,
    "nbgrader": {
     "checksum": "635a33b775f96c81101d782a20cc1e0d",
     "grade": false,
     "grade_id": "cell-93e17ffdff5e0ac9",
     "locked": true,
     "schema_version": 1,
     "solution": false
    }
   },
   "outputs": [],
   "source": [
    "import json\n",
    "import requests"
   ]
  },
  {
   "cell_type": "markdown",
   "metadata": {
    "deletable": false,
    "editable": false,
    "nbgrader": {
     "checksum": "47e5f6bf677c1b0d8f6041bd9b8e4c74",
     "grade": false,
     "grade_id": "cell-076189a984888933",
     "locked": true,
     "schema_version": 1,
     "solution": false
    }
   },
   "source": [
    "The service https://data.police.uk has an interface where we can add specific strings to the URL (web address) to define what data we are intersted in, and the police server will return our requested data. The format is\n",
    "\n",
    "    https://data.police.uk/api/crimes-street/all-crime?poly=[LAT0],[LON0]:[LAT1],[LON1]:[LAT2,LON2]&date=YYYY-MM\n",
    "    \n",
    "This return crimes reports in the triangle given by the three geographic coordinate points `(latitude0, longitude0), (latitude1, longitude1) and (latitude2, longitude2)`, for the month `YYY-MM`.          \n",
    "\n",
    "Below we create this URL string to include a large part of the Cambridge city centre. You can modify this for your own college or other area of interest (Google Maps is a handy way to get the geographic coordinates)."
   ]
  },
  {
   "cell_type": "code",
   "execution_count": null,
   "metadata": {
    "deletable": false,
    "editable": false,
    "nbgrader": {
     "checksum": "53ccc3eccdc5328a7a9232181f003ece",
     "grade": false,
     "grade_id": "cell-b59145a288b844f9",
     "locked": true,
     "schema_version": 1,
     "solution": false
    }
   },
   "outputs": [],
   "source": [
    "# A triangle that includes most of the Cambridge city centre\n",
    "# (long, lat) for three vertices of a triangle (no spaces!)\n",
    "p0 = '52.211546,0.116465'\n",
    "p1 = '52.203510,0.145500'\n",
    "p2 = '52.189730,0.113050'\n",
    "\n",
    "# year-month of interest\n",
    "year_month = '2016-05'\n",
    "\n",
    "# Construct request URL string\n",
    "url = 'https://data.police.uk/api/crimes-street/all-crime?poly=' + p0 + ':' + p1 + ':' + p2 + '&date=' + year_month\n",
    "\n",
    "# Fetch data from https://data.police.uk\n",
    "r = requests.get(url)"
   ]
  },
  {
   "cell_type": "markdown",
   "metadata": {
    "deletable": false,
    "editable": false,
    "nbgrader": {
     "checksum": "5bca2739633b6258a7bc93b130237b85",
     "grade": false,
     "grade_id": "cell-4aca875e8d686608",
     "locked": true,
     "schema_version": 1,
     "solution": false
    }
   },
   "source": [
    "The following converts the fetched data into a list of dictionaries:"
   ]
  },
  {
   "cell_type": "code",
   "execution_count": null,
   "metadata": {},
   "outputs": [],
   "source": [
    "crime_data = r.json()"
   ]
  },
  {
   "cell_type": "markdown",
   "metadata": {},
   "source": [
    "To get an idea of how the data is arranged, we can look at the first report in the list. To make the displayed data easier to read, we use the 'pretty print' module `pprint`."
   ]
  },
  {
   "cell_type": "code",
   "execution_count": null,
   "metadata": {},
   "outputs": [],
   "source": [
    "import pprint\n",
    "if crime_data:\n",
    "    pprint.pprint(crime_data[0])"
   ]
  },
  {
   "cell_type": "markdown",
   "metadata": {},
   "source": [
    "Each dictionary item corresponds to a reported crime."
   ]
  },
  {
   "cell_type": "markdown",
   "metadata": {},
   "source": [
    "### Task\n",
    "\n",
    "Produce a bar chart of the number of reports in different categories. Run your program for different parts of Cambridge, starting with the area around your college, and for different months and years.\n",
    "\n",
    "#### Hints\n",
    "\n",
    "Create an empty dictionary, which will eventually map the report category to the number of incidents:"
   ]
  },
  {
   "cell_type": "code",
   "execution_count": null,
   "metadata": {},
   "outputs": [],
   "source": [
    "categories_freq = {}"
   ]
  },
  {
   "cell_type": "markdown",
   "metadata": {},
   "source": [
    "Iterate over all reports in the list, and extract the category string from each report. If the category string (the 'key') is already in the dictionary increment the associated counter. Otherwise add the key to the dictionary, and associate the value 1."
   ]
  },
  {
   "cell_type": "code",
   "execution_count": null,
   "metadata": {},
   "outputs": [],
   "source": [
    "# Iterate over all reports\n",
    "for report in crime_data:\n",
    "    # Get category type\n",
    "    category = report['category']\n",
    "    \n",
    "    if category in categories_freq:\n",
    "        # Increment counter here\n",
    "        pass  # This can be removed once the 'if' block has a body\n",
    "    else:\n",
    "        # Add category to dictionary here\n",
    "        pass  # This can be removed once the 'else' block has a body"
   ]
  },
  {
   "cell_type": "markdown",
   "metadata": {},
   "source": [
    "The crime categories are the dictionary keys, which can be extracted using\n",
    "```python\n",
    "list(categories_freq.keys())\n",
    "```"
   ]
  },
  {
   "cell_type": "markdown",
   "metadata": {},
   "source": [
    "When adding the tick labels (crime categories), it may be necessary to rotate the labels, e.g.:\n",
    "```python\n",
    "plt.xticks(x_pos, categories, rotation='vertical')\n",
    "```"
   ]
  },
  {
   "cell_type": "markdown",
   "metadata": {},
   "source": [
    "### Extensions (optional)\n",
    "\n",
    "\n",
    "1. Probe the retrieved data to build a set of all crime categories in the data set.\n",
    "2. Explore the temporal (time) aspect of the data. Thinks of ways to represent the change in reported incident \n",
    "   types over time."
   ]
  },
  {
   "cell_type": "markdown",
   "metadata": {},
   "source": [
    "### Solution\n",
    "\n",
    "There are many ways this exercise could be programmed, and there is some choice in data structures.\n",
    "\n",
    "Build (a) a list of crime categories and (b) the number of reports in each category:"
   ]
  },
  {
   "cell_type": "code",
   "execution_count": null,
   "metadata": {
    "deletable": false,
    "nbgrader": {
     "checksum": "145d881634d2ee6b1b99db3d6e93f9ba",
     "grade": false,
     "grade_id": "cell-46ab1ae5cb776dfd",
     "locked": false,
     "schema_version": 1,
     "solution": true
    }
   },
   "outputs": [],
   "source": [
    "# Empty dictionary\n",
    "categories_freq = {}\n",
    "\n",
    "# YOUR CODE HERE\n",
    "raise NotImplementedError()"
   ]
  },
  {
   "cell_type": "markdown",
   "metadata": {},
   "source": [
    "Produce a bar chart:"
   ]
  },
  {
   "cell_type": "code",
   "execution_count": null,
   "metadata": {
    "deletable": false,
    "nbgrader": {
     "checksum": "bbdc0b6b0c011ea9bc0ae07a20c8d1cc",
     "grade": false,
     "grade_id": "cell-97e738a80f71d412",
     "locked": false,
     "schema_version": 1,
     "solution": true
    }
   },
   "outputs": [],
   "source": [
    "# Create an array with the position of each bar along the x-axis\n",
    "x_pos = np.arange(len(categories_freq))\n",
    "\n",
    "# YOUR CODE HERE\n",
    "raise NotImplementedError()"
   ]
  },
  {
   "cell_type": "markdown",
   "metadata": {},
   "source": [
    "Here is a compact version using dictionary member functions (it will be visible when solutions are released)."
   ]
  },
  {
   "cell_type": "code",
   "execution_count": null,
   "metadata": {
    "deletable": false,
    "nbgrader": {
     "checksum": "55eeb841995a9fb1f052bda09e4542fd",
     "grade": false,
     "grade_id": "cell-b0fc6fd94f3c06b9",
     "locked": false,
     "schema_version": 1,
     "solution": true
    }
   },
   "outputs": [],
   "source": [
    "# YOUR CODE HERE\n",
    "raise NotImplementedError()"
   ]
  }
 ],
 "metadata": {
  "kernelspec": {
   "display_name": "Python 3",
   "language": "python",
   "name": "python3"
  },
  "language_info": {
   "codemirror_mode": {
    "name": "ipython",
    "version": 3
   },
   "file_extension": ".py",
   "mimetype": "text/x-python",
   "name": "python",
   "nbconvert_exporter": "python",
   "pygments_lexer": "ipython3",
   "version": "3.6.8"
  },
  "widgets": {
   "state": {
    "248f5fcae0454540b7cd3ac136ba81ad": {
     "views": [
      {
       "cell_index": 11
      }
     ]
    },
    "383c4f93cc414843afd9d350dad99c75": {
     "views": [
      {
       "cell_index": 5
      }
     ]
    }
   },
   "version": "1.2.0"
  }
 },
 "nbformat": 4,
 "nbformat_minor": 2
}
