{
 "cells": [
  {
   "cell_type": "markdown",
   "metadata": {
    "colab_type": "text",
    "id": "cvZS2o_Rkner"
   },
   "source": [
    "# IF / Else Statement\n",
    "\n",
    "Syntax:\n",
    "\n",
    "```\n",
    "if (condition):\n",
    "  do this\n",
    "else:\n",
    "  do this\n",
    "```\n",
    "\n",
    "What if you want more conditions?\n",
    "\n",
    "Syntax:\n",
    "\n",
    "```\n",
    "if (condition):\n",
    "  do this\n",
    "elif (condition):\n",
    "  do this\n",
    "else:\n",
    "  do this\n",
    "```\n",
    "\n",
    "\n"
   ]
  },
  {
   "cell_type": "markdown",
   "metadata": {
    "colab_type": "text",
    "id": "tsdiFNU3kLU9"
   },
   "source": [
    "## Example no. 1\n",
    "Write a program that determines if the input age is qualified to vote or not. The\n",
    "qualifying age is 18 years old and above."
   ]
  },
  {
   "cell_type": "code",
   "execution_count": 6,
   "metadata": {
    "colab": {
     "autoexec": {
      "startup": false,
      "wait_interval": 0
     },
     "base_uri": "https://localhost:8080/",
     "height": 51
    },
    "colab_type": "code",
    "executionInfo": {
     "elapsed": 3134,
     "status": "ok",
     "timestamp": 1530663223728,
     "user": {
      "displayName": "John Anthony Jose",
      "photoUrl": "//lh5.googleusercontent.com/-NLtsURc15Fg/AAAAAAAAAAI/AAAAAAAAAT4/2CdlLebB_Jo/s50-c-k-no/photo.jpg",
      "userId": "106419934937111039828"
     },
     "user_tz": -480
    },
    "id": "nJkOfOX5kIgd",
    "outputId": "054213f9-b6a7-4d99-f9ac-8172e7c51a6c"
   },
   "outputs": [
    {
     "name": "stdout",
     "output_type": "stream",
     "text": [
      "What is your age?18\n",
      "You are qualified to vote!\n"
     ]
    }
   ],
   "source": [
    "age = float(input(\"What is your age?\"))\n",
    "\n",
    "if (age >= 18):\n",
    "  print ('You are qualified to vote!')\n",
    "else:\n",
    "  print ('You are not qualified!')"
   ]
  },
  {
   "cell_type": "markdown",
   "metadata": {
    "colab_type": "text",
    "id": "EC23nnpNkUPs"
   },
   "source": [
    "## Example 2\n",
    "\n",
    "Write a program that accepts the input magic number. If the input is right, the magicwords\n",
    "will be displayed. The magic number is 143 and its corresponding magic words are: “I loveyou!” if\n",
    "the input number is wrong, displays: “Sorry, better luck next time”.\n"
   ]
  },
  {
   "cell_type": "code",
   "execution_count": 8,
   "metadata": {
    "colab": {
     "autoexec": {
      "startup": false,
      "wait_interval": 0
     },
     "base_uri": "https://localhost:8080/",
     "height": 51
    },
    "colab_type": "code",
    "executionInfo": {
     "elapsed": 3987,
     "status": "ok",
     "timestamp": 1530663400281,
     "user": {
      "displayName": "John Anthony Jose",
      "photoUrl": "//lh5.googleusercontent.com/-NLtsURc15Fg/AAAAAAAAAAI/AAAAAAAAAT4/2CdlLebB_Jo/s50-c-k-no/photo.jpg",
      "userId": "106419934937111039828"
     },
     "user_tz": -480
    },
    "id": "xmjWXmvCkZfj",
    "outputId": "38934913-3eae-4183-d154-ab995e005ec4"
   },
   "outputs": [
    {
     "name": "stdout",
     "output_type": "stream",
     "text": [
      "What is your magic number? 168\n",
      "Sorry, better luck next time\n"
     ]
    }
   ],
   "source": [
    "# Get the input from the user\n",
    "number = int(input(\"What is your magic number? \"))\n",
    "\n",
    "# Check if it is equal to 143 or not\n",
    "\n",
    "if (number == 143):\n",
    "  print (\"I love you!\")\n",
    "else:\n",
    "  print (\"Sorry, better luck next time\")\n"
   ]
  },
  {
   "cell_type": "markdown",
   "metadata": {
    "colab_type": "text",
    "id": "CWxHdO4nkaFr"
   },
   "source": [
    "## Example 3\n",
    "\n",
    "Write a program that determines if the input number is POSITIVE or\n",
    "NEGATIVE.Consider 0 as positive, considering that it contains no negative sign.\n"
   ]
  },
  {
   "cell_type": "code",
   "execution_count": 14,
   "metadata": {
    "colab": {
     "autoexec": {
      "startup": false,
      "wait_interval": 0
     },
     "base_uri": "https://localhost:8080/",
     "height": 51
    },
    "colab_type": "code",
    "executionInfo": {
     "elapsed": 2836,
     "status": "ok",
     "timestamp": 1530663620176,
     "user": {
      "displayName": "John Anthony Jose",
      "photoUrl": "//lh5.googleusercontent.com/-NLtsURc15Fg/AAAAAAAAAAI/AAAAAAAAAT4/2CdlLebB_Jo/s50-c-k-no/photo.jpg",
      "userId": "106419934937111039828"
     },
     "user_tz": -480
    },
    "id": "_znqoQoZkdiV",
    "outputId": "ba0d9dfd-5778-4a9f-db2c-0cba4f2e0316"
   },
   "outputs": [
    {
     "name": "stdout",
     "output_type": "stream",
     "text": [
      "What is your input number?0\n",
      "The number is zero!\n"
     ]
    }
   ],
   "source": [
    "# Get the input from the user\n",
    "number = int(input(\"What is your input number?\"))\n",
    "\n",
    "# Check if the positive or negative\n",
    "if (number > 0):\n",
    "  print (\"The number is positive!\")\n",
    "elif (number < 0):\n",
    "  print (\"The number is negative!\")\n",
    "else:\n",
    "  print (\"The number is zero!\")"
   ]
  },
  {
   "cell_type": "markdown",
   "metadata": {
    "colab_type": "text",
    "id": "J_iuoczskfiL"
   },
   "source": [
    "## Example 4\n",
    "Write a program that determines if the input number is ODD or EVEN"
   ]
  },
  {
   "cell_type": "code",
   "execution_count": 16,
   "metadata": {
    "colab": {
     "autoexec": {
      "startup": false,
      "wait_interval": 0
     },
     "base_uri": "https://localhost:8080/",
     "height": 51
    },
    "colab_type": "code",
    "executionInfo": {
     "elapsed": 2539,
     "status": "ok",
     "timestamp": 1530663787386,
     "user": {
      "displayName": "John Anthony Jose",
      "photoUrl": "//lh5.googleusercontent.com/-NLtsURc15Fg/AAAAAAAAAAI/AAAAAAAAAT4/2CdlLebB_Jo/s50-c-k-no/photo.jpg",
      "userId": "106419934937111039828"
     },
     "user_tz": -480
    },
    "id": "QeAinbDxkg_D",
    "outputId": "de0dbe7a-f660-4afc-c58e-77dae2fb9027"
   },
   "outputs": [
    {
     "name": "stdout",
     "output_type": "stream",
     "text": [
      "What is your input number?33\n",
      "The number is odd!\n"
     ]
    }
   ],
   "source": [
    "# Get the input from the user\n",
    "number2 = int(input(\"What is your input number?\"))\n",
    "\n",
    "# Check if the number is odd or even\n",
    "if (number2 % 2 == 0):\n",
    "  print (\"The number is even!\")\n",
    "else:\n",
    "  print (\"The number is odd!\")\n"
   ]
  },
  {
   "cell_type": "code",
   "execution_count": null,
   "metadata": {
    "colab": {
     "autoexec": {
      "startup": false,
      "wait_interval": 0
     }
    },
    "colab_type": "code",
    "id": "NM8pX_Igq7WT"
   },
   "outputs": [],
   "source": []
  }
 ],
 "metadata": {
  "colab": {
   "default_view": {},
   "name": "Lab 6 Examples",
   "provenance": [],
   "version": "0.3.2",
   "views": {}
  },
  "kernelspec": {
   "display_name": "Python 3",
   "language": "python",
   "name": "python3"
  },
  "language_info": {
   "codemirror_mode": {
    "name": "ipython",
    "version": 3
   },
   "file_extension": ".py",
   "mimetype": "text/x-python",
   "name": "python",
   "nbconvert_exporter": "python",
   "pygments_lexer": "ipython3",
   "version": "3.6.8"
  }
 },
 "nbformat": 4,
 "nbformat_minor": 2
}
