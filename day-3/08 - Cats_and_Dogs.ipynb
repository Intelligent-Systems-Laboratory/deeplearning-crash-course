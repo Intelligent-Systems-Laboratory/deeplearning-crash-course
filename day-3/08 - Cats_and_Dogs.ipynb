{
 "cells": [
  {
   "cell_type": "markdown",
   "metadata": {},
   "source": [
    "# Deep Convolutional Neural Network\n",
    "\n",
    "At this point, we should have understood already the concept of deep convolutional neural networks. More specifically:\n",
    "1. Convolution and its parameters (kernel size, no. of filters, stride, padding)\n",
    "2. The effect of depth \n",
    "3. vanishing gradient\n",
    "4. Deep neural networks as learning representaion\n",
    "5. Max pooling\n",
    "6. Activation Functions\n",
    "7. Fully Connected Layers\n",
    "8. Regression vs Classification"
   ]
  },
  {
   "cell_type": "markdown",
   "metadata": {},
   "source": [
    "# Cats and Dogs Classification\n",
    "\n",
    "Earlier, we were able to look on how deep CNN was able to learn and classify handwritten digits. However, this is too controlled, this dataset cannot represent real-world images.\n",
    "\n",
    "Thus, Let's now try to look at the power of deep learning for learning representation. We would now look at the Cats vs Dogs Dataset. These are images from [Kaggle Dataset by Microsoft](https://www.kaggle.com/c/dogs-vs-cats)\n",
    "\n",
    "\n"
   ]
  },
  {
   "cell_type": "code",
   "execution_count": 1,
   "metadata": {},
   "outputs": [],
   "source": [
    "import numpy as np\n",
    "import os\n",
    "import matplotlib.pyplot as plt\n",
    "import torch\n",
    "import torch.nn as nn\n",
    "from torchvision import datasets, transforms\n",
    "from torch.utils.data import random_split, DataLoader\n"
   ]
  },
  {
   "cell_type": "code",
   "execution_count": 2,
   "metadata": {},
   "outputs": [],
   "source": [
    "# Check if CUDA is available or not. Otherwise use CPU\n",
    "device = torch.device(\"cuda\" if torch.cuda.is_available() else \"cpu\")\n",
    "torch.manual_seed(24)\n",
    "np.random.seed(24)\n",
    "\n",
    "num_classes = 2\n",
    "\n",
    "root_folder = '../datasets/catsanddogs'\n",
    "data_transforms = {}\n",
    "data_transforms['train'] = transforms.Compose([transforms.Resize(256),\n",
    "                                               transforms.CenterCrop(224),\n",
    "                                               transforms.RandomHorizontalFlip(),\n",
    "                                               transforms.ToTensor(),\n",
    "                                               transforms.Normalize([0.485, 0.456, 0.406], \n",
    "                                                                    [0.229, 0.224, 0.225])\n",
    "                                              ])\n",
    "\n",
    "data_transforms['val'] = transforms.Compose([transforms.Resize(256),\n",
    "                                             transforms.CenterCrop(224),\n",
    "                                             transforms.ToTensor(),\n",
    "                                             transforms.Normalize([0.485, 0.456, 0.406],\n",
    "                                                                  [0.229, 0.224, 0.225])\n",
    "                                            ])\n",
    "\n",
    "full_dataset = {}\n",
    "full_dataset['train'] = datasets.ImageFolder(root=os.path.join(root_folder,'train'), transform=data_transforms['train'])\n",
    "full_dataset['val'] = datasets.ImageFolder(root=os.path.join(root_folder,'val'), transform=data_transforms['val'])\n",
    "\n"
   ]
  },
  {
   "cell_type": "markdown",
   "metadata": {},
   "source": [
    "## Visualizing Dataset\n",
    "Let's look now how our dataset looks like.\n",
    "On this example, we take the first image-label pair."
   ]
  },
  {
   "cell_type": "code",
   "execution_count": 3,
   "metadata": {},
   "outputs": [
    {
     "data": {
      "text/plain": [
       "(tensor([[[ 2.0948,  2.0948,  2.1119,  ...,  2.1804,  2.1975,  2.1975],\n",
       "          [ 2.0777,  2.0948,  2.1119,  ...,  2.1804,  2.1975,  2.1975],\n",
       "          [ 2.0777,  2.0777,  2.0948,  ...,  2.1804,  2.1975,  2.1975],\n",
       "          ...,\n",
       "          [-0.7650, -0.7479, -0.7822,  ..., -1.7240, -1.7240, -1.7240],\n",
       "          [-0.7822, -0.7822, -0.7993,  ..., -1.7412, -1.7412, -1.7069],\n",
       "          [-0.7993, -0.8164, -0.7993,  ..., -1.7069, -1.7240, -1.7412]],\n",
       " \n",
       "         [[ 1.5532,  1.5532,  1.5707,  ...,  1.9034,  1.9209,  1.9209],\n",
       "          [ 1.5357,  1.5532,  1.5707,  ...,  1.9034,  1.9209,  1.9209],\n",
       "          [ 1.5357,  1.5357,  1.5532,  ...,  1.9034,  1.9209,  1.9209],\n",
       "          ...,\n",
       "          [-1.0728, -1.0553, -1.0903,  ..., -1.7206, -1.7031, -1.6856],\n",
       "          [-1.0903, -1.0903, -1.1078,  ..., -1.7381, -1.7206, -1.6681],\n",
       "          [-1.1253, -1.1429, -1.1253,  ..., -1.7031, -1.7031, -1.7031]],\n",
       " \n",
       "         [[ 0.3393,  0.3393,  0.3568,  ...,  0.8099,  0.8274,  0.8274],\n",
       "          [ 0.3219,  0.3393,  0.3568,  ...,  0.8099,  0.8274,  0.8274],\n",
       "          [ 0.3219,  0.3219,  0.3393,  ...,  0.8099,  0.8274,  0.8274],\n",
       "          ...,\n",
       "          [-1.6127, -1.5953, -1.6302,  ..., -1.7870, -1.7522, -1.7347],\n",
       "          [-1.6302, -1.6302, -1.6302,  ..., -1.8044, -1.7696, -1.7173],\n",
       "          [-1.6127, -1.6302, -1.6127,  ..., -1.8044, -1.7696, -1.7347]]]), 0)"
      ]
     },
     "execution_count": 3,
     "metadata": {},
     "output_type": "execute_result"
    }
   ],
   "source": [
    "imageLabelpair = full_dataset['train'][0]\n",
    "imageLabelpair"
   ]
  },
  {
   "cell_type": "markdown",
   "metadata": {},
   "source": [
    "As you can see, the first index tells us the index from the pool of image-label pair dataset.   \n",
    "Each pair consists of: (1) Raw image in Tensor format (due to transformer), (2) Label for that annotation\n",
    "\n",
    "Let's try to display image "
   ]
  },
  {
   "cell_type": "code",
   "execution_count": 4,
   "metadata": {},
   "outputs": [
    {
     "name": "stderr",
     "output_type": "stream",
     "text": [
      "Clipping input data to the valid range for imshow with RGB data ([0..1] for floats or [0..255] for integers).\n"
     ]
    },
    {
     "data": {
      "text/plain": [
       "<matplotlib.image.AxesImage at 0x7fb4b059e3c8>"
      ]
     },
     "execution_count": 4,
     "metadata": {},
     "output_type": "execute_result"
    },
    {
     "data": {
      "image/png": "[encoded data removed]",
      "text/plain": [
       "<Figure size 432x288 with 1 Axes>"
      ]
     },
     "metadata": {
      "needs_background": "light"
     },
     "output_type": "display_data"
    }
   ],
   "source": [
    "from IPython.display import display\n",
    "plt.imshow(imageLabelpair[0].permute(1,2,0).numpy())"
   ]
  },
  {
   "cell_type": "markdown",
   "metadata": {},
   "source": [
    "The one below is the label"
   ]
  },
  {
   "cell_type": "code",
   "execution_count": 5,
   "metadata": {},
   "outputs": [
    {
     "data": {
      "text/plain": [
       "0"
      ]
     },
     "execution_count": 5,
     "metadata": {},
     "output_type": "execute_result"
    }
   ],
   "source": [
    "imageLabelpair[1]"
   ]
  },
  {
   "cell_type": "markdown",
   "metadata": {},
   "source": [
    "Thus, we see that we defined that a label 0 is a cat (it is zero as due to alphabetical arrangement of label)\n",
    "\n",
    "You can try to change the value of the index. Can you try to check if you can find a dog?"
   ]
  },
  {
   "cell_type": "markdown",
   "metadata": {},
   "source": [
    "## Convert Datasets into Dataloaders\n",
    "- Again, the advantage is that we can convert it a iterable set of batches\n",
    "- This is also where specify the parallelism of our loading"
   ]
  },
  {
   "cell_type": "code",
   "execution_count": 6,
   "metadata": {},
   "outputs": [],
   "source": [
    "trainDataLoader = DataLoader(full_dataset['train'],batch_size=64,shuffle=True, pin_memory=True)\n",
    "valDataLoader = DataLoader(full_dataset['val'],batch_size=64,shuffle=True, pin_memory=True)"
   ]
  },
  {
   "cell_type": "markdown",
   "metadata": {},
   "source": [
    "## Very Deep Convolutional Neural Network\n",
    "Reference: [Simonyan and Zisserman, 2015](https://arxiv.org/pdf/1409.1556.pdf)\n",
    "- In this module, we would start studying classical deep neural network.\n",
    "\n",
    "You can look at the paper. We've also reimplemented it as seen in [vgg16.py](vgg16.py)"
   ]
  },
  {
   "cell_type": "code",
   "execution_count": 7,
   "metadata": {},
   "outputs": [],
   "source": [
    "from vgg16 import vgg16\n",
    "\n",
    "vgg_model = vgg16(pretrained=False).to(device)\n",
    "vgg_model"
   ]
  },
  {
   "cell_type": "code",
   "execution_count": 8,
   "metadata": {},
   "outputs": [],
   "source": [
    "vgg_model.classifier[6] = nn.Linear(4096, num_classes)"
   ]
  },
  {
   "cell_type": "markdown",
   "metadata": {},
   "source": [
    "Let's define the training parameters"
   ]
  },
  {
   "cell_type": "code",
   "execution_count": 9,
   "metadata": {},
   "outputs": [],
   "source": [
    "epochs = 30 # Number of times it would repeat the whole training process\n",
    "\n",
    "criterion = nn.CrossEntropyLoss()\n",
    "# Define how we would update the weights\n",
    "optimizer = torch.optim.Adam(vgg_model.parameters(),lr=0.001,betas=(0.9, 0.999))\n"
   ]
  },
  {
   "cell_type": "code",
   "execution_count": 10,
   "metadata": {},
   "outputs": [],
   "source": [
    "%reload_ext tensorboard"
   ]
  },
  {
   "cell_type": "code",
   "execution_count": 11,
   "metadata": {},
   "outputs": [
    {
     "data": {
      "text/plain": [
       "Reusing TensorBoard on port 6006 (pid 55849), started 14:09:02 ago. (Use '!kill 55849' to kill it.)"
      ]
     },
     "metadata": {},
     "output_type": "display_data"
    },
    {
     "data": {
      "text/html": [
       "\n",
       "        <iframe\n",
       "            width=\"100%\"\n",
       "            height=\"800\"\n",
       "            src=\"http://localhost:6006\"\n",
       "            frameborder=\"0\"\n",
       "            allowfullscreen\n",
       "        ></iframe>\n",
       "        "
      ],
      "text/plain": [
       "<IPython.lib.display.IFrame at 0x7fb4b04ff860>"
      ]
     },
     "metadata": {},
     "output_type": "display_data"
    }
   ],
   "source": [
    "%tensorboard --logdir runs"
   ]
  },
  {
   "cell_type": "code",
   "execution_count": null,
   "metadata": {},
   "outputs": [
    {
     "name": "stderr",
     "output_type": "stream",
     "text": [
      "/opt/anaconda3/envs/ml-detection/lib/python3.6/site-packages/tensorboard/compat/tensorflow_stub/dtypes.py:541: FutureWarning: Passing (type, 1) or '1type' as a synonym of type is deprecated; in a future version of numpy, it will be understood as (type, (1,)) / '(1,)type'.\n",
      "  _np_qint8 = np.dtype([(\"qint8\", np.int8, 1)])\n",
      "/opt/anaconda3/envs/ml-detection/lib/python3.6/site-packages/tensorboard/compat/tensorflow_stub/dtypes.py:542: FutureWarning: Passing (type, 1) or '1type' as a synonym of type is deprecated; in a future version of numpy, it will be understood as (type, (1,)) / '(1,)type'.\n",
      "  _np_quint8 = np.dtype([(\"quint8\", np.uint8, 1)])\n",
      "/opt/anaconda3/envs/ml-detection/lib/python3.6/site-packages/tensorboard/compat/tensorflow_stub/dtypes.py:543: FutureWarning: Passing (type, 1) or '1type' as a synonym of type is deprecated; in a future version of numpy, it will be understood as (type, (1,)) / '(1,)type'.\n",
      "  _np_qint16 = np.dtype([(\"qint16\", np.int16, 1)])\n",
      "/opt/anaconda3/envs/ml-detection/lib/python3.6/site-packages/tensorboard/compat/tensorflow_stub/dtypes.py:544: FutureWarning: Passing (type, 1) or '1type' as a synonym of type is deprecated; in a future version of numpy, it will be understood as (type, (1,)) / '(1,)type'.\n",
      "  _np_quint16 = np.dtype([(\"quint16\", np.uint16, 1)])\n",
      "/opt/anaconda3/envs/ml-detection/lib/python3.6/site-packages/tensorboard/compat/tensorflow_stub/dtypes.py:545: FutureWarning: Passing (type, 1) or '1type' as a synonym of type is deprecated; in a future version of numpy, it will be understood as (type, (1,)) / '(1,)type'.\n",
      "  _np_qint32 = np.dtype([(\"qint32\", np.int32, 1)])\n",
      "/opt/anaconda3/envs/ml-detection/lib/python3.6/site-packages/tensorboard/compat/tensorflow_stub/dtypes.py:550: FutureWarning: Passing (type, 1) or '1type' as a synonym of type is deprecated; in a future version of numpy, it will be understood as (type, (1,)) / '(1,)type'.\n",
      "  np_resource = np.dtype([(\"resource\", np.ubyte, 1)])\n"
     ]
    },
    {
     "name": "stdout",
     "output_type": "stream",
     "text": [
      "Epoch: 1 train Loss: 0.6948 Acc: 50.0000\n",
      "Epoch: 1 Val Loss: 0.6948 Acc: 50.0000\n",
      "Epoch: 2 train Loss: 0.6932 Acc: 50.0000\n",
      "Epoch: 2 Val Loss: 0.6932 Acc: 50.0000\n",
      "Epoch: 3 train Loss: 0.6932 Acc: 50.0000\n",
      "Epoch: 3 Val Loss: 0.6932 Acc: 50.0000\n",
      "Epoch: 4 train Loss: 0.6932 Acc: 50.0000\n",
      "Epoch: 4 Val Loss: 0.6932 Acc: 50.0000\n",
      "Epoch: 5 train Loss: 0.6932 Acc: 50.0000\n"
     ]
    }
   ],
   "source": [
    "from ignite.engine import Events, create_supervised_trainer, create_supervised_evaluator\n",
    "from ignite.metrics import Accuracy, Loss\n",
    "from torch.utils.tensorboard import SummaryWriter\n",
    "# from visdom import Visdom\n",
    "\n",
    "#We transferred both the model and data to GPU on trainer and evaluator\n",
    "trainer = create_supervised_trainer(vgg_model,optimizer,criterion,device)\n",
    "evaluator = create_supervised_evaluator(vgg_model,metrics={'accuracy':Accuracy(),\n",
    "                                                      'loss':Loss(criterion)},device=device)\n",
    "\n",
    "# Writer will output to ./runs/ directory by default\n",
    "writer = SummaryWriter()\n",
    "# vis = Visdom()\n",
    "\n",
    "# def create_plot_window(vis, xlabel, ylabel, title):\n",
    "#     return vis.line(X=np.array([1]), Y=np.array([np.nan]), opts=dict(xlabel=xlabel, ylabel=ylabel, title=title))\n",
    "\n",
    "# #Initialize all the plot windows we wanted\n",
    "# train_loss_window = create_plot_window(vis,'#Iterations','Loss','Training Avg Loss')\n",
    "# val_loss_window = create_plot_window(vis,'#Iterations','Loss','Val Avg Loss')\n",
    "# train_acc_window = create_plot_window(vis,'#Iterations','Accuracy','Training Avg Accuracy')\n",
    "# val_acc_window = create_plot_window(vis,'#Iterations','Accuracy','Val Avg Accuracy')\n",
    "\n",
    "\n",
    "@trainer.on(Events.EPOCH_COMPLETED)\n",
    "def log_training_results(engine):\n",
    "    evaluator.run(trainDataLoader)\n",
    "    avg_accuracy = evaluator.state.metrics['accuracy']\n",
    "    avg_loss = evaluator.state.metrics['loss']\n",
    "    epoch = engine.state.epoch\n",
    "    print(\"Epoch: {} train Loss: {:.4f} Acc: {:.4f}\".format(epoch, avg_loss, avg_accuracy*100))\n",
    "    \n",
    "    # Update your plots\n",
    "    writer.add_scalar('Loss/train', avg_loss, epoch)\n",
    "    writer.add_scalar('Accuracy/train', avg_accuracy, epoch)\n",
    "#     vis.line(X=np.array([epoch]),Y=np.array([avg_loss]),win=train_loss_window,update='append')\n",
    "#     vis.line(X=np.array([epoch]),Y=np.array([avg_accuracy]),win=train_acc_window,update='append')\n",
    "    \n",
    "    pass\n",
    "\n",
    "@trainer.on(Events.EPOCH_COMPLETED)\n",
    "def log_validation_results(engine):\n",
    "    evaluator.run(valDataLoader)\n",
    "    avg_accuracy = evaluator.state.metrics['accuracy']\n",
    "    avg_loss = evaluator.state.metrics['loss']\n",
    "    epoch = engine.state.epoch\n",
    "\n",
    "    print(\"Epoch: {} Val Loss: {:.4f} Acc: {:.4f}\".format(epoch, avg_loss, avg_accuracy*100))\n",
    "    \n",
    "    # Update your plots\n",
    "    writer.add_scalar('Loss/val', avg_loss, epoch)\n",
    "    writer.add_scalar('Accuracy/val', avg_accuracy, epoch)\n",
    "#     vis.line(X=np.array([epoch]),Y=np.array([avg_loss]),win=val_loss_window,update='append')\n",
    "#     vis.line(X=np.array([epoch]),Y=np.array([avg_accuracy]),win=val_acc_window,update='append')\n",
    "\n",
    "\n",
    "trainer.run(trainDataLoader, max_epochs=epochs)"
   ]
  },
  {
   "cell_type": "code",
   "execution_count": null,
   "metadata": {},
   "outputs": [],
   "source": []
  }
 ],
 "metadata": {
  "kernelspec": {
   "display_name": "Python 3",
   "language": "python",
   "name": "python3"
  },
  "language_info": {
   "codemirror_mode": {
    "name": "ipython",
    "version": 3
   },
   "file_extension": ".py",
   "mimetype": "text/x-python",
   "name": "python",
   "nbconvert_exporter": "python",
   "pygments_lexer": "ipython3",
   "version": "3.6.9"
  }
 },
 "nbformat": 4,
 "nbformat_minor": 4
}
