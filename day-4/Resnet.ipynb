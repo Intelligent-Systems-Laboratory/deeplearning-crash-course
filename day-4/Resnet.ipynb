{
 "cells": [
  {
   "cell_type": "code",
   "execution_count": 31,
   "metadata": {
    "colab": {},
    "colab_type": "code",
    "id": "U-m9p0bHJerE"
   },
   "outputs": [],
   "source": [
    "import torch\n",
    "import torch.nn as nn\n",
    "import torch.nn.functional as F\n",
    "import numpy as np\n",
    "import matplotlib.pyplot as plt\n",
    "from torchvision.models.utils import load_state_dict_from_url"
   ]
  },
  {
   "cell_type": "markdown",
   "metadata": {
    "colab_type": "text",
    "id": "BNznErBhYRDz"
   },
   "source": [
    "Resnet was simply an extension of VGG\n",
    "https://arxiv.org/pdf/1409.1556.pdf"
   ]
  },
  {
   "cell_type": "markdown",
   "metadata": {
    "colab_type": "text",
    "id": "kXoTE2jKAx7H"
   },
   "source": [
    "# Evaluating the dataset\n",
    "\n",
    "\n",
    "Let's work on testing it on some popular dataset.\n",
    "\n",
    "Let's start with CIFAR"
   ]
  },
  {
   "cell_type": "markdown",
   "metadata": {
    "colab_type": "text",
    "id": "tJrIHVhGBbId"
   },
   "source": [
    "## Gather your dataset\n",
    "- In this case, we want CIFAR dataset.\n",
    "- Fortunately, this is already built-in from torchvision package"
   ]
  },
  {
   "cell_type": "code",
   "execution_count": 32,
   "metadata": {
    "colab": {},
    "colab_type": "code",
    "id": "swNwf-NBaE7K"
   },
   "outputs": [
    {
     "name": "stdout",
     "output_type": "stream",
     "text": [
      "Files already downloaded and verified\n",
      "Files already downloaded and verified\n"
     ]
    }
   ],
   "source": [
    "from torchvision import datasets, transforms\n",
    "\n",
    "device = torch.device(\"cuda\" if torch.cuda.is_available() else \"cpu\")\n",
    "\n",
    "# Define a transform to augment the data. \n",
    "# Transform #1 = we want to convert everything into tensor format so that we can streamline pytorch packages\n",
    "# Transform #2 = Normalize. This is used for data cleaning so that you can help the model perform better.\n",
    "transform = transforms.Compose([transforms.ToTensor(),\n",
    "                              transforms.Normalize((0.5,), (0.5,)),\n",
    "                              ])\n",
    "\n",
    "#Load your MNIST Dataset\n",
    "# If you check the documentation of MNIST method, \n",
    "#              argument #1 = directory to save the fetched dataset\n",
    "#              argument #2 (download)  = do we download if you don't have on the said directory?\n",
    "#              argument #3 (train)     = what type of dataset?\n",
    "#              argument #4 (transform) = which transformation do you like to do? \n",
    "train_set = datasets.CIFAR10('drive/My Drive/cifar', download=True, train=True, transform=transform)\n",
    "test_set = datasets.CIFAR10('drive/My Drive/cifar', download=True, train=False, transform=transform)"
   ]
  },
  {
   "cell_type": "code",
   "execution_count": 33,
   "metadata": {
    "colab": {},
    "colab_type": "code",
    "id": "lX9nD33OBfEt"
   },
   "outputs": [
    {
     "data": {
      "text/plain": [
       "Dataset CIFAR10\n",
       "    Number of datapoints: 50000\n",
       "    Root location: drive/My Drive/cifar\n",
       "    Split: Train\n",
       "    StandardTransform\n",
       "Transform: Compose(\n",
       "               ToTensor()\n",
       "               Normalize(mean=(0.5,), std=(0.5,))\n",
       "           )"
      ]
     },
     "execution_count": 33,
     "metadata": {},
     "output_type": "execute_result"
    }
   ],
   "source": [
    "train_set"
   ]
  },
  {
   "cell_type": "markdown",
   "metadata": {
    "colab_type": "text",
    "id": "OwwM7iJZBmws"
   },
   "source": [
    "From above, we see that the `Dataset` object is like a folder structure. It provides you a mechanism to see its properties. \n",
    "\n",
    "*Recall*: In our previous lesson, we showed that training models in pytorch was done using the built-in `for` loop of Python. Our dataset that time was just using list of random numbers. \n",
    "\n",
    "But now that we are using real-world dataset via `Dataset` object. So how do we use it for model training?\n",
    "\n",
    "We can use `DataLoader` utility to convert the dataset object into an `iterable` object which you can use within `for` loop later on.\n"
   ]
  },
  {
   "cell_type": "code",
   "execution_count": 53,
   "metadata": {
    "colab": {},
    "colab_type": "code",
    "id": "seG4RuP2BgI5"
   },
   "outputs": [],
   "source": [
    "# This is a function for you to change it from the dataset structure above into something iterable for the looping statement later on.\n",
    "trainDataLoader = torch.utils.data.DataLoader(train_set, batch_size=16*4, shuffle=True)\n",
    "testDataLoader = torch.utils.data.DataLoader(test_set, batch_size=16*4, shuffle=True)\n",
    "\n",
    "#Increasing batchsize makes training faster. However, due to the nature of SGD, it also creates more instabiltiy during training."
   ]
  },
  {
   "cell_type": "markdown",
   "metadata": {
    "colab_type": "text",
    "id": "JZgjxx91BwSP"
   },
   "source": [
    "Let's try to check what does one iteration look like."
   ]
  },
  {
   "cell_type": "code",
   "execution_count": 54,
   "metadata": {
    "colab": {},
    "colab_type": "code",
    "id": "o94NEe-ZBvki"
   },
   "outputs": [
    {
     "name": "stdout",
     "output_type": "stream",
     "text": [
      "torch.Size([64, 3, 32, 32]) torch.Size([64])\n"
     ]
    }
   ],
   "source": [
    "trainIter = iter(trainDataLoader) # Convert it into python iterable built-in object\n",
    "\n",
    "images, labels = trainIter.next() #Get the next element\n",
    "\n",
    "print(images.shape, labels.shape)"
   ]
  },
  {
   "cell_type": "markdown",
   "metadata": {
    "colab_type": "text",
    "id": "p46hFJatB0nB"
   },
   "source": [
    "As you can see from above, our Image is four dimensional. Additionally, pytorch dimensional format is as follows:  \n",
    "dim0 = batch size  (i.e. number of images in one batch)  \n",
    "dim1 = no. of channels  (i.e. number of color channel if you may, e.g. R,G,B)  \n",
    "dim2 = height (i.e. how tall the photo in pixel)   \n",
    "dim3 = width  (i.e. how wide the photo in pixel)  \n",
    "\n",
    "Note: If you are coming from tensorflow, they have different arrangement of dimension esp no. of channel\n",
    "\n",
    "\n",
    "Also, note that labels is of shape 64. It's because, we set that the batch_size is 64. Thus, we get 64 images and 64 labels."
   ]
  },
  {
   "cell_type": "markdown",
   "metadata": {
    "colab_type": "text",
    "id": "Mt5bf5qpB41K"
   },
   "source": [
    "## Visualize the dataset\n",
    "This is how our dataset looks like."
   ]
  },
  {
   "cell_type": "code",
   "execution_count": 55,
   "metadata": {
    "colab": {},
    "colab_type": "code",
    "id": "eSkJ0jmBByYD"
   },
   "outputs": [
    {
     "name": "stderr",
     "output_type": "stream",
     "text": [
      "Clipping input data to the valid range for imshow with RGB data ([0..1] for floats or [0..255] for integers).\n"
     ]
    },
    {
     "data": {
      "text/plain": [
       "<matplotlib.image.AxesImage at 0x7f00404420f0>"
      ]
     },
     "execution_count": 55,
     "metadata": {},
     "output_type": "execute_result"
    },
    {
     "data": {
      "image/png": "[encoded data removed]",
      "text/plain": [
       "<Figure size 432x288 with 1 Axes>"
      ]
     },
     "metadata": {
      "needs_background": "light"
     },
     "output_type": "display_data"
    }
   ],
   "source": [
    "plt.gray()\n",
    "plt.imshow(images[0].numpy().transpose([1,2,0])) #Note: We get the image 0 from the batch. Thus, it becomes 3 dim. We transpose to fix the dims appropriate for matplotlib"
   ]
  },
  {
   "cell_type": "markdown",
   "metadata": {
    "colab_type": "text",
    "id": "D4fzo4kKTU_D"
   },
   "source": [
    "This is how our labels look like.\n",
    "\n",
    "In CIFAR10. The labels only ranges from 0 to 9."
   ]
  },
  {
   "cell_type": "code",
   "execution_count": 56,
   "metadata": {
    "colab": {},
    "colab_type": "code",
    "id": "IEfsXOKETO55"
   },
   "outputs": [
    {
     "data": {
      "text/plain": [
       "7"
      ]
     },
     "execution_count": 56,
     "metadata": {},
     "output_type": "execute_result"
    }
   ],
   "source": [
    "labels[0].numpy().tolist()"
   ]
  },
  {
   "cell_type": "markdown",
   "metadata": {
    "colab_type": "text",
    "id": "R-85LLwnCLWl"
   },
   "source": [
    "## Model Configurations\n",
    "- This is where we configure our model depending on the context of the data we want\n",
    "- Note in this case we would use resnet50"
   ]
  },
  {
   "cell_type": "code",
   "execution_count": 57,
   "metadata": {},
   "outputs": [],
   "source": [
    "from vgg19 import vgg19\n",
    "from resnet50 import resnet50"
   ]
  },
  {
   "cell_type": "code",
   "execution_count": 58,
   "metadata": {
    "colab": {},
    "colab_type": "code",
    "id": "US621RsVB9BE"
   },
   "outputs": [],
   "source": [
    "seed = 24 #Fave Number. Kobe == 24\n",
    "torch.manual_seed(seed) # This is set in order to have reproducible and comparable results\n",
    "\n",
    "# VGG. If you want VGG Uncomment below and comment out resnet\n",
    "#model = vgg19(pretrained=True)\n",
    "#num_ftrs = model.classifier[-1].in_features\n",
    "# Here the size of each output sample is set to 10.\n",
    "#model.classifier[-1] = nn.Linear(num_ftrs, 10)\n",
    "\n",
    "# Resnet\n",
    "model = resnet50(pretrained=True)\n",
    "num_ftrs = model.fc.in_features\n",
    "model.fc = nn.Linear(num_ftrs, 10)\n",
    "\n",
    "model.to(device) #Transfer to GPU\n",
    "\n",
    "# nn.DataParallel would automatically detect how many GPU your machine have. \n",
    "# Increasing number of parallelism causes more instability on cost function minimization.\n",
    "model = nn.DataParallel(model) # Make it work on Multi-GPU setup. (note: Single machine/node only)\n",
    "\n",
    "\n",
    "\n",
    "epochs = 10 # Number of times it would repeat the whole training process"
   ]
  },
  {
   "cell_type": "code",
   "execution_count": 64,
   "metadata": {
    "colab": {},
    "colab_type": "code",
    "id": "UMNFTGOPCcPy"
   },
   "outputs": [],
   "source": [
    "# Define the cost function\n",
    "# criterion = torch.nn.MSELoss(reduction='sum')\n",
    "criterion = nn.CrossEntropyLoss() #This is good for classification task\n",
    "\n",
    "# Define how we would update the weights\n",
    "optimizer = torch.optim.SGD(model.parameters(),lr=4e-3,momentum=0.9)"
   ]
  },
  {
   "cell_type": "markdown",
   "metadata": {},
   "source": [
    "# LRFinder\n",
    "Let's use LRFinder as our guideline on setting the learning rate"
   ]
  },
  {
   "cell_type": "code",
   "execution_count": 63,
   "metadata": {},
   "outputs": [
    {
     "data": {
      "application/vnd.jupyter.widget-view+json": {
       "model_id": "a8f57f337aea46439ae6da3b56909db7",
       "version_major": 2,
       "version_minor": 0
      },
      "text/plain": [
       "HBox(children=(FloatProgress(value=0.0), HTML(value='')))"
      ]
     },
     "metadata": {},
     "output_type": "display_data"
    },
    {
     "name": "stdout",
     "output_type": "stream",
     "text": [
      "\n",
      "Learning rate search finished. See the graph with {finder_name}.plot()\n"
     ]
    },
    {
     "data": {
      "image/png": "[encoded data removed]",
      "text/plain": [
       "<Figure size 432x288 with 1 Axes>"
      ]
     },
     "metadata": {
      "needs_background": "light"
     },
     "output_type": "display_data"
    }
   ],
   "source": [
    "from lr_finder import LRFinder\n",
    "\n",
    "finder = LRFinder(model, optimizer=optimizer, criterion=criterion, device=device)\n",
    "\n",
    "finder.range_test(trainDataLoader,end_lr=1, num_iter=100)\n",
    "\n",
    "finder.plot()\n",
    "\n",
    "finder.reset()"
   ]
  },
  {
   "cell_type": "code",
   "execution_count": 65,
   "metadata": {
    "colab": {},
    "colab_type": "code",
    "id": "ZzmJV3d9Gj4F"
   },
   "outputs": [],
   "source": [
    "from tqdm import tqdm\n",
    "\n",
    "def train_fn(data_loader, model, optimizer, device, scheduler=None):\n",
    "    model.train()\n",
    "    \n",
    "    for batch, data in tqdm(enumerate(data_loader), total=len(data_loader)): #tqdm == progress bar\n",
    "        images = data[0].to(device) #The CIFAR Dataset returns a Tuple. Zero-index is the image\n",
    "        labels = data[1].to(device) # Index-1 is the label (in this case, the labels ranges from 0-9)\n",
    "        \n",
    "        model.zero_grad()\n",
    "        output = model(images) #Note: The output here is not yet a probability. Rather it's still need to go thru Softmax\n",
    "        loss = criterion(output, labels) # We do the softmax here. CrossEntropyLoss = NllLoss + Softmax\n",
    "        \n",
    "        loss.backward()\n",
    "        \n",
    "        optimizer.step()    \n",
    "        \n",
    "        if scheduler:\n",
    "            scheduler.step()\n",
    "\n",
    "\n",
    "def eval_fn(data_loader, model, device):\n",
    "    model.eval()\n",
    "    \n",
    "    fin_targets = []\n",
    "    fin_outputs = []\n",
    "    with torch.no_grad():\n",
    "        for batch, data in tqdm(enumerate(data_loader), total=len(data_loader)):\n",
    "            images = data[0].to(device)\n",
    "            labels = data[1].to(device)\n",
    "\n",
    "            output = model(images) #Note: The output here is not yet a probability. Rather it's still need to go thru Softmax\n",
    "            loss = criterion(output, labels) # We do the softmax here. CrossEntropyLoss = NllLoss + Softmax\n",
    "\n",
    "            fin_targets.extend(labels.cpu().detach().numpy().tolist())\n",
    "            fin_outputs.extend(torch.softmax(output, dim=1).cpu().detach().numpy().tolist()) # We also do softmax here\n",
    "    \n",
    "    return fin_outputs, fin_targets"
   ]
  },
  {
   "cell_type": "code",
   "execution_count": null,
   "metadata": {
    "colab": {},
    "colab_type": "code",
    "id": "FgGeV6q1G_HO"
   },
   "outputs": [
    {
     "name": "stderr",
     "output_type": "stream",
     "text": [
      "100%|██████████| 782/782 [01:29<00:00,  8.69it/s]\n",
      "100%|██████████| 157/157 [00:10<00:00, 14.65it/s]\n"
     ]
    },
    {
     "name": "stdout",
     "output_type": "stream",
     "text": [
      "Accuracy: 0.7892\n"
     ]
    },
    {
     "name": "stderr",
     "output_type": "stream",
     "text": [
      "100%|██████████| 782/782 [01:30<00:00,  8.69it/s]\n",
      "100%|██████████| 157/157 [00:10<00:00, 14.85it/s]\n",
      "  0%|          | 1/782 [00:00<01:23,  9.32it/s]"
     ]
    },
    {
     "name": "stdout",
     "output_type": "stream",
     "text": [
      "Accuracy: 0.7374\n"
     ]
    },
    {
     "name": "stderr",
     "output_type": "stream",
     "text": [
      " 39%|███▉      | 307/782 [00:35<00:54,  8.69it/s]"
     ]
    }
   ],
   "source": [
    "from sklearn import metrics\n",
    "\n",
    "best_accuracy=0\n",
    "for epoch in range(epochs):\n",
    "        train_fn(trainDataLoader, model, optimizer, device)\n",
    "        \n",
    "        outputs, targets = eval_fn(testDataLoader, model, device)\n",
    "        \n",
    "        preds = np.argmax(outputs, 1) #In this case, we have 10 probabilities. We take the index that has the highest probability\n",
    "        \n",
    "        accuracy = metrics.accuracy_score(preds, targets)\n",
    "        print(f\"Accuracy: {accuracy}\")\n",
    "        \n",
    "        if accuracy >= best_accuracy:\n",
    "            best_accuracy = accuracy\n",
    "            torch.save(model.state_dict(), \"model.pth\")        "
   ]
  },
  {
   "cell_type": "code",
   "execution_count": null,
   "metadata": {
    "colab": {},
    "colab_type": "code",
    "id": "dH4DcHMyUGwZ"
   },
   "outputs": [],
   "source": []
  },
  {
   "cell_type": "code",
   "execution_count": null,
   "metadata": {},
   "outputs": [],
   "source": []
  }
 ],
 "metadata": {
  "accelerator": "GPU",
  "colab": {
   "collapsed_sections": [],
   "name": "Resnet",
   "private_outputs": true,
   "provenance": []
  },
  "kernelspec": {
   "display_name": "Python 3",
   "language": "python",
   "name": "python3"
  },
  "language_info": {
   "codemirror_mode": {
    "name": "ipython",
    "version": 3
   },
   "file_extension": ".py",
   "mimetype": "text/x-python",
   "name": "python",
   "nbconvert_exporter": "python",
   "pygments_lexer": "ipython3",
   "version": "3.6.10"
  }
 },
 "nbformat": 4,
 "nbformat_minor": 4
}
